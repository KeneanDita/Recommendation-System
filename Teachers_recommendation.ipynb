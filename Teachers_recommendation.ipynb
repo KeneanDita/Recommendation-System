{
 "cells": [
  {
   "cell_type": "markdown",
   "id": "64e3e6bc-8759-40da-b31b-dfae9921de4c",
   "metadata": {},
   "source": [
    "# Loading Data and handling missing values"
   ]
  },
  {
   "cell_type": "code",
   "execution_count": 4,
   "id": "b3c17fb4-fe26-4d3f-83db-7710fb4ad49a",
   "metadata": {},
   "outputs": [
    {
     "data": {
      "application/vnd.dataresource+json": {
       "data": [
        {
         "Availability": "Part-time",
         "Certifications": "PGCE",
         "Country": "Germany",
         "Courses_Taught": 82,
         "Education_Level": "PhD",
         "Email": "brittany.rivera@example.edu",
         "Full_Name": "Brittany Rivera",
         "Gender": "Male",
         "Is_Research_Active": true,
         "Language": "Mandarin",
         "Primary_Subject": "Economics",
         "Secondary_Subject": "Biology",
         "Student_Rating": 4.94,
         "Teacher_ID": "T00001",
         "Teaching_Style": "Project-based",
         "Years_of_Experience": 4,
         "index": 0
        },
        {
         "Availability": "Part-time",
         "Certifications": "Online Certifications",
         "Country": "India",
         "Courses_Taught": 5,
         "Education_Level": "Masters",
         "Email": "ryan.smith@example.edu",
         "Full_Name": "Ryan Smith",
         "Gender": "Non-Binary",
         "Is_Research_Active": false,
         "Language": "Spanish",
         "Primary_Subject": "Computer Science",
         "Secondary_Subject": "History",
         "Student_Rating": 4.53,
         "Teacher_ID": "T00002",
         "Teaching_Style": "Flipped Classroom",
         "Years_of_Experience": 9,
         "index": 1
        },
        {
         "Availability": "Part-time",
         "Certifications": "M.Ed",
         "Country": "France",
         "Courses_Taught": 38,
         "Education_Level": "Bachelors",
         "Email": "nicole.miranda@example.edu",
         "Full_Name": "Nicole Miranda",
         "Gender": "Male",
         "Is_Research_Active": false,
         "Language": "French",
         "Primary_Subject": "Economics",
         "Secondary_Subject": "English",
         "Student_Rating": 3.22,
         "Teacher_ID": "T00003",
         "Teaching_Style": "Flipped Classroom",
         "Years_of_Experience": 23,
         "index": 2
        },
        {
         "Availability": "Full-time",
         "Certifications": null,
         "Country": "USA",
         "Courses_Taught": 70,
         "Education_Level": "Bachelors",
         "Email": "eric.hayes@example.edu",
         "Full_Name": "Eric Hayes",
         "Gender": "Non-Binary",
         "Is_Research_Active": true,
         "Language": "German",
         "Primary_Subject": "History",
         "Secondary_Subject": "Chemistry",
         "Student_Rating": 3.42,
         "Teacher_ID": "T00004",
         "Teaching_Style": "Lecture-based",
         "Years_of_Experience": 24,
         "index": 3
        },
        {
         "Availability": "Part-time",
         "Certifications": "TESOL",
         "Country": "Canada",
         "Courses_Taught": 75,
         "Education_Level": "PhD",
         "Email": "sarah.hernandez@example.edu",
         "Full_Name": "Sarah Hernandez",
         "Gender": "Female",
         "Is_Research_Active": false,
         "Language": "French",
         "Primary_Subject": "Computer Science",
         "Secondary_Subject": "Physics",
         "Student_Rating": 2.84,
         "Teacher_ID": "T00005",
         "Teaching_Style": "Interactive",
         "Years_of_Experience": 40,
         "index": 4
        }
       ],
       "schema": {
        "fields": [
         {
          "name": "index",
          "type": "integer"
         },
         {
          "name": "Teacher_ID",
          "type": "string"
         },
         {
          "name": "Full_Name",
          "type": "string"
         },
         {
          "name": "Gender",
          "type": "string"
         },
         {
          "name": "Country",
          "type": "string"
         },
         {
          "name": "Primary_Subject",
          "type": "string"
         },
         {
          "name": "Secondary_Subject",
          "type": "string"
         },
         {
          "name": "Education_Level",
          "type": "string"
         },
         {
          "name": "Years_of_Experience",
          "type": "integer"
         },
         {
          "name": "Teaching_Style",
          "type": "string"
         },
         {
          "name": "Certifications",
          "type": "string"
         },
         {
          "name": "Availability",
          "type": "string"
         },
         {
          "name": "Language",
          "type": "string"
         },
         {
          "name": "Student_Rating",
          "type": "number"
         },
         {
          "name": "Courses_Taught",
          "type": "integer"
         },
         {
          "name": "Is_Research_Active",
          "type": "boolean"
         },
         {
          "name": "Email",
          "type": "string"
         }
        ],
        "pandas_version": "1.4.0",
        "primaryKey": [
         "index"
        ]
       }
      },
      "text/html": [
       "<div>\n",
       "<style scoped>\n",
       "    .dataframe tbody tr th:only-of-type {\n",
       "        vertical-align: middle;\n",
       "    }\n",
       "\n",
       "    .dataframe tbody tr th {\n",
       "        vertical-align: top;\n",
       "    }\n",
       "\n",
       "    .dataframe thead th {\n",
       "        text-align: right;\n",
       "    }\n",
       "</style>\n",
       "<table border=\"1\" class=\"dataframe\">\n",
       "  <thead>\n",
       "    <tr style=\"text-align: right;\">\n",
       "      <th></th>\n",
       "      <th>Teacher_ID</th>\n",
       "      <th>Full_Name</th>\n",
       "      <th>Gender</th>\n",
       "      <th>Country</th>\n",
       "      <th>Primary_Subject</th>\n",
       "      <th>Secondary_Subject</th>\n",
       "      <th>Education_Level</th>\n",
       "      <th>Years_of_Experience</th>\n",
       "      <th>Teaching_Style</th>\n",
       "      <th>Certifications</th>\n",
       "      <th>Availability</th>\n",
       "      <th>Language</th>\n",
       "      <th>Student_Rating</th>\n",
       "      <th>Courses_Taught</th>\n",
       "      <th>Is_Research_Active</th>\n",
       "      <th>Email</th>\n",
       "    </tr>\n",
       "  </thead>\n",
       "  <tbody>\n",
       "    <tr>\n",
       "      <th>0</th>\n",
       "      <td>T00001</td>\n",
       "      <td>Brittany Rivera</td>\n",
       "      <td>Male</td>\n",
       "      <td>Germany</td>\n",
       "      <td>Economics</td>\n",
       "      <td>Biology</td>\n",
       "      <td>PhD</td>\n",
       "      <td>4</td>\n",
       "      <td>Project-based</td>\n",
       "      <td>PGCE</td>\n",
       "      <td>Part-time</td>\n",
       "      <td>Mandarin</td>\n",
       "      <td>4.94</td>\n",
       "      <td>82</td>\n",
       "      <td>True</td>\n",
       "      <td>brittany.rivera@example.edu</td>\n",
       "    </tr>\n",
       "    <tr>\n",
       "      <th>1</th>\n",
       "      <td>T00002</td>\n",
       "      <td>Ryan Smith</td>\n",
       "      <td>Non-Binary</td>\n",
       "      <td>India</td>\n",
       "      <td>Computer Science</td>\n",
       "      <td>History</td>\n",
       "      <td>Masters</td>\n",
       "      <td>9</td>\n",
       "      <td>Flipped Classroom</td>\n",
       "      <td>Online Certifications</td>\n",
       "      <td>Part-time</td>\n",
       "      <td>Spanish</td>\n",
       "      <td>4.53</td>\n",
       "      <td>5</td>\n",
       "      <td>False</td>\n",
       "      <td>ryan.smith@example.edu</td>\n",
       "    </tr>\n",
       "    <tr>\n",
       "      <th>2</th>\n",
       "      <td>T00003</td>\n",
       "      <td>Nicole Miranda</td>\n",
       "      <td>Male</td>\n",
       "      <td>France</td>\n",
       "      <td>Economics</td>\n",
       "      <td>English</td>\n",
       "      <td>Bachelors</td>\n",
       "      <td>23</td>\n",
       "      <td>Flipped Classroom</td>\n",
       "      <td>M.Ed</td>\n",
       "      <td>Part-time</td>\n",
       "      <td>French</td>\n",
       "      <td>3.22</td>\n",
       "      <td>38</td>\n",
       "      <td>False</td>\n",
       "      <td>nicole.miranda@example.edu</td>\n",
       "    </tr>\n",
       "    <tr>\n",
       "      <th>3</th>\n",
       "      <td>T00004</td>\n",
       "      <td>Eric Hayes</td>\n",
       "      <td>Non-Binary</td>\n",
       "      <td>USA</td>\n",
       "      <td>History</td>\n",
       "      <td>Chemistry</td>\n",
       "      <td>Bachelors</td>\n",
       "      <td>24</td>\n",
       "      <td>Lecture-based</td>\n",
       "      <td>NaN</td>\n",
       "      <td>Full-time</td>\n",
       "      <td>German</td>\n",
       "      <td>3.42</td>\n",
       "      <td>70</td>\n",
       "      <td>True</td>\n",
       "      <td>eric.hayes@example.edu</td>\n",
       "    </tr>\n",
       "    <tr>\n",
       "      <th>4</th>\n",
       "      <td>T00005</td>\n",
       "      <td>Sarah Hernandez</td>\n",
       "      <td>Female</td>\n",
       "      <td>Canada</td>\n",
       "      <td>Computer Science</td>\n",
       "      <td>Physics</td>\n",
       "      <td>PhD</td>\n",
       "      <td>40</td>\n",
       "      <td>Interactive</td>\n",
       "      <td>TESOL</td>\n",
       "      <td>Part-time</td>\n",
       "      <td>French</td>\n",
       "      <td>2.84</td>\n",
       "      <td>75</td>\n",
       "      <td>False</td>\n",
       "      <td>sarah.hernandez@example.edu</td>\n",
       "    </tr>\n",
       "  </tbody>\n",
       "</table>\n",
       "</div>"
      ],
      "text/plain": [
       "  Teacher_ID        Full_Name      Gender  Country   Primary_Subject  \\\n",
       "0     T00001  Brittany Rivera        Male  Germany         Economics   \n",
       "1     T00002       Ryan Smith  Non-Binary    India  Computer Science   \n",
       "2     T00003   Nicole Miranda        Male   France         Economics   \n",
       "3     T00004       Eric Hayes  Non-Binary      USA           History   \n",
       "4     T00005  Sarah Hernandez      Female   Canada  Computer Science   \n",
       "\n",
       "  Secondary_Subject Education_Level  Years_of_Experience     Teaching_Style  \\\n",
       "0           Biology             PhD                    4      Project-based   \n",
       "1           History         Masters                    9  Flipped Classroom   \n",
       "2           English       Bachelors                   23  Flipped Classroom   \n",
       "3         Chemistry       Bachelors                   24      Lecture-based   \n",
       "4           Physics             PhD                   40        Interactive   \n",
       "\n",
       "          Certifications Availability  Language  Student_Rating  \\\n",
       "0                   PGCE    Part-time  Mandarin            4.94   \n",
       "1  Online Certifications    Part-time   Spanish            4.53   \n",
       "2                   M.Ed    Part-time    French            3.22   \n",
       "3                    NaN    Full-time    German            3.42   \n",
       "4                  TESOL    Part-time    French            2.84   \n",
       "\n",
       "   Courses_Taught  Is_Research_Active                        Email  \n",
       "0              82                True  brittany.rivera@example.edu  \n",
       "1               5               False       ryan.smith@example.edu  \n",
       "2              38               False   nicole.miranda@example.edu  \n",
       "3              70                True       eric.hayes@example.edu  \n",
       "4              75               False  sarah.hernandez@example.edu  "
      ]
     },
     "execution_count": 4,
     "metadata": {},
     "output_type": "execute_result"
    }
   ],
   "source": [
    "import pandas as pd\n",
    "\n",
    "data = pd.read_csv('assets/synthetic_teachers_dataset.csv')\n",
    "data.head()"
   ]
  },
  {
   "cell_type": "code",
   "execution_count": 5,
   "id": "e96fbf3b-cf81-4385-b1ed-93c22011038d",
   "metadata": {},
   "outputs": [
    {
     "data": {
      "text/plain": [
       "(10000, 16)"
      ]
     },
     "execution_count": 5,
     "metadata": {},
     "output_type": "execute_result"
    }
   ],
   "source": [
    "data.shape"
   ]
  },
  {
   "cell_type": "code",
   "execution_count": 12,
   "id": "1ac6793d-44bd-4acf-a9a6-20cf910d09d5",
   "metadata": {},
   "outputs": [
    {
     "data": {
      "application/vnd.dataresource+json": {
       "data": [
        {
         "Country": "Canada",
         "count": 1492
        },
        {
         "Country": "Australia",
         "count": 1470
        },
        {
         "Country": "Germany",
         "count": 1461
        },
        {
         "Country": "UK",
         "count": 1427
        },
        {
         "Country": "India",
         "count": 1402
        },
        {
         "Country": "USA",
         "count": 1394
        },
        {
         "Country": "France",
         "count": 1354
        }
       ],
       "schema": {
        "fields": [
         {
          "name": "Country",
          "type": "string"
         },
         {
          "name": "count",
          "type": "integer"
         }
        ],
        "pandas_version": "1.4.0",
        "primaryKey": [
         "Country"
        ]
       }
      },
      "text/plain": [
       "Country\n",
       "Canada       1492\n",
       "Australia    1470\n",
       "Germany      1461\n",
       "UK           1427\n",
       "India        1402\n",
       "USA          1394\n",
       "France       1354\n",
       "Name: count, dtype: int64"
      ]
     },
     "execution_count": 12,
     "metadata": {},
     "output_type": "execute_result"
    }
   ],
   "source": [
    "data.value_counts('Country')"
   ]
  },
  {
   "cell_type": "code",
   "execution_count": 6,
   "id": "d44d59f8-792b-4186-b6c1-204bfa80668a",
   "metadata": {},
   "outputs": [
    {
     "data": {
      "application/vnd.dataresource+json": {
       "data": [
        {
         "Courses_Taught": 10000,
         "Student_Rating": 10000,
         "Years_of_Experience": 10000,
         "index": "count"
        },
        {
         "Courses_Taught": 52.1288,
         "Student_Rating": 3.746494,
         "Years_of_Experience": 20.282,
         "index": "mean"
        },
        {
         "Courses_Taught": 27.3477421456,
         "Student_Rating": 0.7209487115,
         "Years_of_Experience": 11.630967455,
         "index": "std"
        },
        {
         "Courses_Taught": 5,
         "Student_Rating": 2.5,
         "Years_of_Experience": 1,
         "index": "min"
        },
        {
         "Courses_Taught": 29,
         "Student_Rating": 3.13,
         "Years_of_Experience": 10,
         "index": "25%"
        },
        {
         "Courses_Taught": 52,
         "Student_Rating": 3.74,
         "Years_of_Experience": 20,
         "index": "50%"
        },
        {
         "Courses_Taught": 76,
         "Student_Rating": 4.37,
         "Years_of_Experience": 30,
         "index": "75%"
        },
        {
         "Courses_Taught": 99,
         "Student_Rating": 5,
         "Years_of_Experience": 40,
         "index": "max"
        }
       ],
       "schema": {
        "fields": [
         {
          "name": "index",
          "type": "string"
         },
         {
          "name": "Years_of_Experience",
          "type": "number"
         },
         {
          "name": "Student_Rating",
          "type": "number"
         },
         {
          "name": "Courses_Taught",
          "type": "number"
         }
        ],
        "pandas_version": "1.4.0",
        "primaryKey": [
         "index"
        ]
       }
      },
      "text/html": [
       "<div>\n",
       "<style scoped>\n",
       "    .dataframe tbody tr th:only-of-type {\n",
       "        vertical-align: middle;\n",
       "    }\n",
       "\n",
       "    .dataframe tbody tr th {\n",
       "        vertical-align: top;\n",
       "    }\n",
       "\n",
       "    .dataframe thead th {\n",
       "        text-align: right;\n",
       "    }\n",
       "</style>\n",
       "<table border=\"1\" class=\"dataframe\">\n",
       "  <thead>\n",
       "    <tr style=\"text-align: right;\">\n",
       "      <th></th>\n",
       "      <th>Years_of_Experience</th>\n",
       "      <th>Student_Rating</th>\n",
       "      <th>Courses_Taught</th>\n",
       "    </tr>\n",
       "  </thead>\n",
       "  <tbody>\n",
       "    <tr>\n",
       "      <th>count</th>\n",
       "      <td>10000.000000</td>\n",
       "      <td>10000.000000</td>\n",
       "      <td>10000.000000</td>\n",
       "    </tr>\n",
       "    <tr>\n",
       "      <th>mean</th>\n",
       "      <td>20.282000</td>\n",
       "      <td>3.746494</td>\n",
       "      <td>52.128800</td>\n",
       "    </tr>\n",
       "    <tr>\n",
       "      <th>std</th>\n",
       "      <td>11.630967</td>\n",
       "      <td>0.720949</td>\n",
       "      <td>27.347742</td>\n",
       "    </tr>\n",
       "    <tr>\n",
       "      <th>min</th>\n",
       "      <td>1.000000</td>\n",
       "      <td>2.500000</td>\n",
       "      <td>5.000000</td>\n",
       "    </tr>\n",
       "    <tr>\n",
       "      <th>25%</th>\n",
       "      <td>10.000000</td>\n",
       "      <td>3.130000</td>\n",
       "      <td>29.000000</td>\n",
       "    </tr>\n",
       "    <tr>\n",
       "      <th>50%</th>\n",
       "      <td>20.000000</td>\n",
       "      <td>3.740000</td>\n",
       "      <td>52.000000</td>\n",
       "    </tr>\n",
       "    <tr>\n",
       "      <th>75%</th>\n",
       "      <td>30.000000</td>\n",
       "      <td>4.370000</td>\n",
       "      <td>76.000000</td>\n",
       "    </tr>\n",
       "    <tr>\n",
       "      <th>max</th>\n",
       "      <td>40.000000</td>\n",
       "      <td>5.000000</td>\n",
       "      <td>99.000000</td>\n",
       "    </tr>\n",
       "  </tbody>\n",
       "</table>\n",
       "</div>"
      ],
      "text/plain": [
       "       Years_of_Experience  Student_Rating  Courses_Taught\n",
       "count         10000.000000    10000.000000    10000.000000\n",
       "mean             20.282000        3.746494       52.128800\n",
       "std              11.630967        0.720949       27.347742\n",
       "min               1.000000        2.500000        5.000000\n",
       "25%              10.000000        3.130000       29.000000\n",
       "50%              20.000000        3.740000       52.000000\n",
       "75%              30.000000        4.370000       76.000000\n",
       "max              40.000000        5.000000       99.000000"
      ]
     },
     "execution_count": 6,
     "metadata": {},
     "output_type": "execute_result"
    }
   ],
   "source": [
    "data.describe()"
   ]
  },
  {
   "cell_type": "code",
   "execution_count": 9,
   "id": "434162e1-7aba-404e-bf26-aeb35435f3c8",
   "metadata": {},
   "outputs": [
    {
     "data": {
      "application/vnd.dataresource+json": {
       "data": [
        {
         "index": "Teacher_ID",
         "values": 0
        },
        {
         "index": "Full_Name",
         "values": 0
        },
        {
         "index": "Gender",
         "values": 0
        },
        {
         "index": "Country",
         "values": 0
        },
        {
         "index": "Primary_Subject",
         "values": 0
        },
        {
         "index": "Secondary_Subject",
         "values": 0
        },
        {
         "index": "Education_Level",
         "values": 0
        },
        {
         "index": "Years_of_Experience",
         "values": 0
        },
        {
         "index": "Teaching_Style",
         "values": 0
        },
        {
         "index": "Certifications",
         "values": 0
        },
        {
         "index": "Availability",
         "values": 0
        },
        {
         "index": "Language",
         "values": 0
        },
        {
         "index": "Student_Rating",
         "values": 0
        },
        {
         "index": "Courses_Taught",
         "values": 0
        },
        {
         "index": "Is_Research_Active",
         "values": 0
        },
        {
         "index": "Email",
         "values": 0
        }
       ],
       "schema": {
        "fields": [
         {
          "name": "index",
          "type": "string"
         },
         {
          "name": "values",
          "type": "integer"
         }
        ],
        "pandas_version": "1.4.0",
        "primaryKey": [
         "index"
        ]
       }
      },
      "text/plain": [
       "Teacher_ID             0\n",
       "Full_Name              0\n",
       "Gender                 0\n",
       "Country                0\n",
       "Primary_Subject        0\n",
       "Secondary_Subject      0\n",
       "Education_Level        0\n",
       "Years_of_Experience    0\n",
       "Teaching_Style         0\n",
       "Certifications         0\n",
       "Availability           0\n",
       "Language               0\n",
       "Student_Rating         0\n",
       "Courses_Taught         0\n",
       "Is_Research_Active     0\n",
       "Email                  0\n",
       "dtype: int64"
      ]
     },
     "execution_count": 9,
     "metadata": {},
     "output_type": "execute_result"
    }
   ],
   "source": [
    "data.isnull().sum()"
   ]
  },
  {
   "cell_type": "code",
   "execution_count": 8,
   "id": "f9b85dab-4f5a-4c8e-a1bb-a1430766f825",
   "metadata": {},
   "outputs": [],
   "source": [
    "data.fillna('Unknown', inplace=True)"
   ]
  },
  {
   "cell_type": "code",
   "execution_count": 13,
   "id": "9823fa93-dcc8-487c-8994-05ca81e6c301",
   "metadata": {},
   "outputs": [],
   "source": [
    "from sklearn.preprocessing import OneHotEncoder\n",
    "\n",
    "categorical_cols = ['Gender', 'Country', 'Primary_Subject', 'Secondary_Subject', 'Education_Level', \n",
    "                    'Teaching_Style', 'Certifications', 'Availability', 'Language']\n",
    "\n",
    "data_encoded = pd.get_dummies(data, columns=categorical_cols)\n",
    "\n",
    "data_encoded['Is_Research_Active'] = data_encoded['Is_Research_Active'].astype(int)"
   ]
  },
  {
   "cell_type": "code",
   "execution_count": 14,
   "id": "8317f5e6-65d8-49ac-97e3-3f53aec8caca",
   "metadata": {},
   "outputs": [],
   "source": [
    "from sklearn.preprocessing import MinMaxScaler\n",
    "\n",
    "scaler = MinMaxScaler()\n",
    "num_cols = ['Years_of_Experience', 'Student_Rating', 'Courses_Taught']\n",
    "\n",
    "data_encoded[num_cols] = scaler.fit_transform(data_encoded[num_cols])"
   ]
  },
  {
   "cell_type": "code",
   "execution_count": 15,
   "id": "5aa58f39-8a09-475e-899c-c7e0a6ba7e0a",
   "metadata": {},
   "outputs": [],
   "source": [
    "import pandas as pd\n",
    "\n",
    "input_data = {\n",
    "    'Years_of_Experience': 10,\n",
    "    'Student_Rating': 4.5,\n",
    "    'Courses_Taught': 20,\n",
    "    'Gender': 'Male',   \n",
    "    'Country': 'Canada' \n",
    "}\n",
    "\n",
    "course_numeric_input = pd.DataFrame([{\n",
    "    'Years_of_Experience': input_data['Years_of_Experience'],\n",
    "    'Student_Rating': input_data['Student_Rating'],\n",
    "    'Courses_Taught': input_data['Courses_Taught']\n",
    "}])\n",
    "\n",
    "scaled_values = scaler.transform(course_numeric_input)\n",
    "\n",
    "gender_ohe = {\n",
    "    'Gender_Male': 1 if input_data['Gender'] == 'Male' else 0,\n",
    "    'Gender_Female': 1 if input_data['Gender'] == 'Female' else 0,\n",
    "    'Gender_Non-Binary': 1 if input_data['Gender'] == 'Non-Binary' else 0\n",
    "}\n",
    "\n",
    "countries = ['Canada', 'Australia', 'Germany', 'UK', 'India', 'USA', 'France']\n",
    "country_ohe = {f'Country_{country}': 1 if input_data['Country'] == country else 0 for country in countries}\n",
    "\n",
    "course_profile = {\n",
    "    'Primary_Subject_Physics': 1,\n",
    "    'Secondary_Subject_Mathematics': 1,\n",
    "    'Education_Level_PhD': 1,\n",
    "    'Teaching_Style_Lecture-based': 1,\n",
    "    'Certifications_PGCE': 1,\n",
    "    'Availability_Full-time': 1,\n",
    "    'Language_English': 1,\n",
    "    'Years_of_Experience': scaled_values[0][0],\n",
    "    'Student_Rating': scaled_values[0][1],\n",
    "    'Courses_Taught': scaled_values[0][2],\n",
    "    'Is_Research_Active': 1\n",
    "}\n",
    "\n",
    "course_profile.update(gender_ohe)\n",
    "course_profile.update(country_ohe)"
   ]
  },
  {
   "cell_type": "code",
   "execution_count": 17,
   "id": "81db818f-d32b-4505-8a93-2d76538c0d3e",
   "metadata": {},
   "outputs": [],
   "source": [
    "import numpy as np\n",
    "\n",
    "all_features = data_encoded.columns.drop(['Teacher_ID', 'Full_Name', 'Email'])\n",
    "query_vector = np.array([course_profile.get(col, 0) for col in all_features])"
   ]
  },
  {
   "cell_type": "code",
   "execution_count": 18,
   "id": "6475d51e-4c39-4ef2-b0d5-29d9c3664c48",
   "metadata": {},
   "outputs": [
    {
     "name": "stdout",
     "output_type": "stream",
     "text": [
      "     Teacher_ID              Full_Name                              Email  \\\n",
      "8193     T08194         Ashley Johnson         ashley.johnson@example.edu   \n",
      "1269     T01270           Jacob Taylor           jacob.taylor@example.edu   \n",
      "1581     T01582       Brittany Johnson       brittany.johnson@example.edu   \n",
      "3857     T03858       George Henderson       george.henderson@example.edu   \n",
      "4576     T04577  Dr. Jeffrey Myers PhD  dr..jeffrey.myers.phd@example.edu   \n",
      "7059     T07060           Sheri Spears           sheri.spears@example.edu   \n",
      "9797     T09798      Sharon Mccullough      sharon.mccullough@example.edu   \n",
      "7516     T07517         Andrew Spencer         andrew.spencer@example.edu   \n",
      "1249     T01250          Taylor Carter          taylor.carter@example.edu   \n",
      "7655     T07656          Michael Davis          michael.davis@example.edu   \n",
      "\n",
      "     Primary_Subject  Years_of_Experience  Student_Rating  \n",
      "8193         Physics                   17            3.97  \n",
      "1269         Physics                   15            4.26  \n",
      "1581         English                    4            4.41  \n",
      "3857         History                   16            3.51  \n",
      "4576         Physics                    1            4.74  \n",
      "7059         Physics                   17            3.10  \n",
      "9797         Physics                   13            2.97  \n",
      "7516         Physics                   32            3.22  \n",
      "1249         Physics                   13            3.30  \n",
      "7655         Physics                   25            3.20  \n"
     ]
    }
   ],
   "source": [
    "from sklearn.metrics.pairwise import cosine_similarity\n",
    "\n",
    "teacher_vectors = data_encoded.drop(columns=['Teacher_ID', 'Full_Name', 'Email']).values\n",
    "similarities = cosine_similarity([query_vector], teacher_vectors)\n",
    "\n",
    "top_n = 10\n",
    "top_indices = similarities[0].argsort()[-top_n:][::-1]\n",
    "\n",
    "recommended_teachers = data.iloc[top_indices][['Teacher_ID', 'Full_Name', 'Email', 'Primary_Subject', 'Years_of_Experience', 'Student_Rating']]\n",
    "print(recommended_teachers)"
   ]
  },
  {
   "cell_type": "code",
   "execution_count": 19,
   "id": "8b90139b-0e6f-4db8-b359-ddc96a4536f7",
   "metadata": {},
   "outputs": [],
   "source": [
    "def recommend_teachers(course_profile_dict, data_encoded, scaler, data, top_n=5):\n",
    "    all_features = data_encoded.columns.drop(['Teacher_ID', 'Full_Name', 'Email'])\n",
    "    query_vector = np.array([course_profile_dict.get(col, 0) for col in all_features])\n",
    "    teacher_vectors = data_encoded.drop(columns=['Teacher_ID', 'Full_Name', 'Email']).values\n",
    "    similarities = cosine_similarity([query_vector], teacher_vectors)\n",
    "    top_indices = similarities[0].argsort()[-top_n:][::-1]\n",
    "    return data.iloc[top_indices]"
   ]
  },
  {
   "cell_type": "code",
   "execution_count": 20,
   "id": "f3b538cb-7ebd-43dd-b2c8-b44c81481bb1",
   "metadata": {},
   "outputs": [
    {
     "data": {
      "application/vnd.dataresource+json": {
       "data": [
        {
         "Availability": "Full-time",
         "Certifications": "PGCE",
         "Country": "Canada",
         "Courses_Taught": 85,
         "Education_Level": "Bachelors",
         "Email": "ashley.johnson@example.edu",
         "Full_Name": "Ashley Johnson",
         "Gender": "Non-Binary",
         "Is_Research_Active": false,
         "Language": "English",
         "Primary_Subject": "Physics",
         "Secondary_Subject": "Mathematics",
         "Student_Rating": 3.97,
         "Teacher_ID": "T08194",
         "Teaching_Style": "Lecture-based",
         "Years_of_Experience": 17,
         "index": 8193
        },
        {
         "Availability": "Full-time",
         "Certifications": "M.Ed",
         "Country": "Canada",
         "Courses_Taught": 99,
         "Education_Level": "Masters",
         "Email": "jacob.taylor@example.edu",
         "Full_Name": "Jacob Taylor",
         "Gender": "Male",
         "Is_Research_Active": false,
         "Language": "English",
         "Primary_Subject": "Physics",
         "Secondary_Subject": "Mathematics",
         "Student_Rating": 4.26,
         "Teacher_ID": "T01270",
         "Teaching_Style": "Lecture-based",
         "Years_of_Experience": 15,
         "index": 1269
        },
        {
         "Availability": "Full-time",
         "Certifications": "PGCE",
         "Country": "Canada",
         "Courses_Taught": 55,
         "Education_Level": "Masters",
         "Email": "brittany.johnson@example.edu",
         "Full_Name": "Brittany Johnson",
         "Gender": "Male",
         "Is_Research_Active": true,
         "Language": "Mandarin",
         "Primary_Subject": "English",
         "Secondary_Subject": "Mathematics",
         "Student_Rating": 4.41,
         "Teacher_ID": "T01582",
         "Teaching_Style": "Lecture-based",
         "Years_of_Experience": 4,
         "index": 1581
        },
        {
         "Availability": "Full-time",
         "Certifications": "PGCE",
         "Country": "Canada",
         "Courses_Taught": 40,
         "Education_Level": "PhD",
         "Email": "george.henderson@example.edu",
         "Full_Name": "George Henderson",
         "Gender": "Male",
         "Is_Research_Active": true,
         "Language": "French",
         "Primary_Subject": "History",
         "Secondary_Subject": "Mathematics",
         "Student_Rating": 3.51,
         "Teacher_ID": "T03858",
         "Teaching_Style": "Interactive",
         "Years_of_Experience": 16,
         "index": 3857
        },
        {
         "Availability": "Full-time",
         "Certifications": "M.Ed",
         "Country": "Germany",
         "Courses_Taught": 88,
         "Education_Level": "PhD",
         "Email": "dr..jeffrey.myers.phd@example.edu",
         "Full_Name": "Dr. Jeffrey Myers PhD",
         "Gender": "Male",
         "Is_Research_Active": true,
         "Language": "English",
         "Primary_Subject": "Physics",
         "Secondary_Subject": "Physics",
         "Student_Rating": 4.74,
         "Teacher_ID": "T04577",
         "Teaching_Style": "Lecture-based",
         "Years_of_Experience": 1,
         "index": 4576
        },
        {
         "Availability": "Full-time",
         "Certifications": "PGCE",
         "Country": "Canada",
         "Courses_Taught": 51,
         "Education_Level": "Bachelors",
         "Email": "sheri.spears@example.edu",
         "Full_Name": "Sheri Spears",
         "Gender": "Non-Binary",
         "Is_Research_Active": true,
         "Language": "French",
         "Primary_Subject": "Physics",
         "Secondary_Subject": "Mathematics",
         "Student_Rating": 3.1,
         "Teacher_ID": "T07060",
         "Teaching_Style": "Lecture-based",
         "Years_of_Experience": 17,
         "index": 7059
        },
        {
         "Availability": "Full-time",
         "Certifications": "TESOL",
         "Country": "Canada",
         "Courses_Taught": 31,
         "Education_Level": "PhD",
         "Email": "sharon.mccullough@example.edu",
         "Full_Name": "Sharon Mccullough",
         "Gender": "Male",
         "Is_Research_Active": true,
         "Language": "Mandarin",
         "Primary_Subject": "Physics",
         "Secondary_Subject": "Economics",
         "Student_Rating": 2.97,
         "Teacher_ID": "T09798",
         "Teaching_Style": "Lecture-based",
         "Years_of_Experience": 13,
         "index": 9797
        },
        {
         "Availability": "Full-time",
         "Certifications": "PGCE",
         "Country": "Germany",
         "Courses_Taught": 14,
         "Education_Level": "PhD",
         "Email": "andrew.spencer@example.edu",
         "Full_Name": "Andrew Spencer",
         "Gender": "Male",
         "Is_Research_Active": true,
         "Language": "Spanish",
         "Primary_Subject": "Physics",
         "Secondary_Subject": "Biology",
         "Student_Rating": 3.22,
         "Teacher_ID": "T07517",
         "Teaching_Style": "Lecture-based",
         "Years_of_Experience": 32,
         "index": 7516
        },
        {
         "Availability": "Visiting",
         "Certifications": "PGCE",
         "Country": "Canada",
         "Courses_Taught": 82,
         "Education_Level": "PhD",
         "Email": "taylor.carter@example.edu",
         "Full_Name": "Taylor Carter",
         "Gender": "Non-Binary",
         "Is_Research_Active": true,
         "Language": "Spanish",
         "Primary_Subject": "Physics",
         "Secondary_Subject": "Mathematics",
         "Student_Rating": 3.3,
         "Teacher_ID": "T01250",
         "Teaching_Style": "Lecture-based",
         "Years_of_Experience": 13,
         "index": 1249
        },
        {
         "Availability": "Full-time",
         "Certifications": "PGCE",
         "Country": "Australia",
         "Courses_Taught": 84,
         "Education_Level": "PhD",
         "Email": "michael.davis@example.edu",
         "Full_Name": "Michael Davis",
         "Gender": "Female",
         "Is_Research_Active": true,
         "Language": "English",
         "Primary_Subject": "Physics",
         "Secondary_Subject": "Geography",
         "Student_Rating": 3.2,
         "Teacher_ID": "T07656",
         "Teaching_Style": "Lecture-based",
         "Years_of_Experience": 25,
         "index": 7655
        }
       ],
       "schema": {
        "fields": [
         {
          "name": "index",
          "type": "integer"
         },
         {
          "name": "Teacher_ID",
          "type": "string"
         },
         {
          "name": "Full_Name",
          "type": "string"
         },
         {
          "name": "Gender",
          "type": "string"
         },
         {
          "name": "Country",
          "type": "string"
         },
         {
          "name": "Primary_Subject",
          "type": "string"
         },
         {
          "name": "Secondary_Subject",
          "type": "string"
         },
         {
          "name": "Education_Level",
          "type": "string"
         },
         {
          "name": "Years_of_Experience",
          "type": "integer"
         },
         {
          "name": "Teaching_Style",
          "type": "string"
         },
         {
          "name": "Certifications",
          "type": "string"
         },
         {
          "name": "Availability",
          "type": "string"
         },
         {
          "name": "Language",
          "type": "string"
         },
         {
          "name": "Student_Rating",
          "type": "number"
         },
         {
          "name": "Courses_Taught",
          "type": "integer"
         },
         {
          "name": "Is_Research_Active",
          "type": "boolean"
         },
         {
          "name": "Email",
          "type": "string"
         }
        ],
        "pandas_version": "1.4.0",
        "primaryKey": [
         "index"
        ]
       }
      },
      "text/html": [
       "<div>\n",
       "<style scoped>\n",
       "    .dataframe tbody tr th:only-of-type {\n",
       "        vertical-align: middle;\n",
       "    }\n",
       "\n",
       "    .dataframe tbody tr th {\n",
       "        vertical-align: top;\n",
       "    }\n",
       "\n",
       "    .dataframe thead th {\n",
       "        text-align: right;\n",
       "    }\n",
       "</style>\n",
       "<table border=\"1\" class=\"dataframe\">\n",
       "  <thead>\n",
       "    <tr style=\"text-align: right;\">\n",
       "      <th></th>\n",
       "      <th>Teacher_ID</th>\n",
       "      <th>Full_Name</th>\n",
       "      <th>Gender</th>\n",
       "      <th>Country</th>\n",
       "      <th>Primary_Subject</th>\n",
       "      <th>Secondary_Subject</th>\n",
       "      <th>Education_Level</th>\n",
       "      <th>Years_of_Experience</th>\n",
       "      <th>Teaching_Style</th>\n",
       "      <th>Certifications</th>\n",
       "      <th>Availability</th>\n",
       "      <th>Language</th>\n",
       "      <th>Student_Rating</th>\n",
       "      <th>Courses_Taught</th>\n",
       "      <th>Is_Research_Active</th>\n",
       "      <th>Email</th>\n",
       "    </tr>\n",
       "  </thead>\n",
       "  <tbody>\n",
       "    <tr>\n",
       "      <th>8193</th>\n",
       "      <td>T08194</td>\n",
       "      <td>Ashley Johnson</td>\n",
       "      <td>Non-Binary</td>\n",
       "      <td>Canada</td>\n",
       "      <td>Physics</td>\n",
       "      <td>Mathematics</td>\n",
       "      <td>Bachelors</td>\n",
       "      <td>17</td>\n",
       "      <td>Lecture-based</td>\n",
       "      <td>PGCE</td>\n",
       "      <td>Full-time</td>\n",
       "      <td>English</td>\n",
       "      <td>3.97</td>\n",
       "      <td>85</td>\n",
       "      <td>False</td>\n",
       "      <td>ashley.johnson@example.edu</td>\n",
       "    </tr>\n",
       "    <tr>\n",
       "      <th>1269</th>\n",
       "      <td>T01270</td>\n",
       "      <td>Jacob Taylor</td>\n",
       "      <td>Male</td>\n",
       "      <td>Canada</td>\n",
       "      <td>Physics</td>\n",
       "      <td>Mathematics</td>\n",
       "      <td>Masters</td>\n",
       "      <td>15</td>\n",
       "      <td>Lecture-based</td>\n",
       "      <td>M.Ed</td>\n",
       "      <td>Full-time</td>\n",
       "      <td>English</td>\n",
       "      <td>4.26</td>\n",
       "      <td>99</td>\n",
       "      <td>False</td>\n",
       "      <td>jacob.taylor@example.edu</td>\n",
       "    </tr>\n",
       "    <tr>\n",
       "      <th>1581</th>\n",
       "      <td>T01582</td>\n",
       "      <td>Brittany Johnson</td>\n",
       "      <td>Male</td>\n",
       "      <td>Canada</td>\n",
       "      <td>English</td>\n",
       "      <td>Mathematics</td>\n",
       "      <td>Masters</td>\n",
       "      <td>4</td>\n",
       "      <td>Lecture-based</td>\n",
       "      <td>PGCE</td>\n",
       "      <td>Full-time</td>\n",
       "      <td>Mandarin</td>\n",
       "      <td>4.41</td>\n",
       "      <td>55</td>\n",
       "      <td>True</td>\n",
       "      <td>brittany.johnson@example.edu</td>\n",
       "    </tr>\n",
       "    <tr>\n",
       "      <th>3857</th>\n",
       "      <td>T03858</td>\n",
       "      <td>George Henderson</td>\n",
       "      <td>Male</td>\n",
       "      <td>Canada</td>\n",
       "      <td>History</td>\n",
       "      <td>Mathematics</td>\n",
       "      <td>PhD</td>\n",
       "      <td>16</td>\n",
       "      <td>Interactive</td>\n",
       "      <td>PGCE</td>\n",
       "      <td>Full-time</td>\n",
       "      <td>French</td>\n",
       "      <td>3.51</td>\n",
       "      <td>40</td>\n",
       "      <td>True</td>\n",
       "      <td>george.henderson@example.edu</td>\n",
       "    </tr>\n",
       "    <tr>\n",
       "      <th>4576</th>\n",
       "      <td>T04577</td>\n",
       "      <td>Dr. Jeffrey Myers PhD</td>\n",
       "      <td>Male</td>\n",
       "      <td>Germany</td>\n",
       "      <td>Physics</td>\n",
       "      <td>Physics</td>\n",
       "      <td>PhD</td>\n",
       "      <td>1</td>\n",
       "      <td>Lecture-based</td>\n",
       "      <td>M.Ed</td>\n",
       "      <td>Full-time</td>\n",
       "      <td>English</td>\n",
       "      <td>4.74</td>\n",
       "      <td>88</td>\n",
       "      <td>True</td>\n",
       "      <td>dr..jeffrey.myers.phd@example.edu</td>\n",
       "    </tr>\n",
       "    <tr>\n",
       "      <th>7059</th>\n",
       "      <td>T07060</td>\n",
       "      <td>Sheri Spears</td>\n",
       "      <td>Non-Binary</td>\n",
       "      <td>Canada</td>\n",
       "      <td>Physics</td>\n",
       "      <td>Mathematics</td>\n",
       "      <td>Bachelors</td>\n",
       "      <td>17</td>\n",
       "      <td>Lecture-based</td>\n",
       "      <td>PGCE</td>\n",
       "      <td>Full-time</td>\n",
       "      <td>French</td>\n",
       "      <td>3.10</td>\n",
       "      <td>51</td>\n",
       "      <td>True</td>\n",
       "      <td>sheri.spears@example.edu</td>\n",
       "    </tr>\n",
       "    <tr>\n",
       "      <th>9797</th>\n",
       "      <td>T09798</td>\n",
       "      <td>Sharon Mccullough</td>\n",
       "      <td>Male</td>\n",
       "      <td>Canada</td>\n",
       "      <td>Physics</td>\n",
       "      <td>Economics</td>\n",
       "      <td>PhD</td>\n",
       "      <td>13</td>\n",
       "      <td>Lecture-based</td>\n",
       "      <td>TESOL</td>\n",
       "      <td>Full-time</td>\n",
       "      <td>Mandarin</td>\n",
       "      <td>2.97</td>\n",
       "      <td>31</td>\n",
       "      <td>True</td>\n",
       "      <td>sharon.mccullough@example.edu</td>\n",
       "    </tr>\n",
       "    <tr>\n",
       "      <th>7516</th>\n",
       "      <td>T07517</td>\n",
       "      <td>Andrew Spencer</td>\n",
       "      <td>Male</td>\n",
       "      <td>Germany</td>\n",
       "      <td>Physics</td>\n",
       "      <td>Biology</td>\n",
       "      <td>PhD</td>\n",
       "      <td>32</td>\n",
       "      <td>Lecture-based</td>\n",
       "      <td>PGCE</td>\n",
       "      <td>Full-time</td>\n",
       "      <td>Spanish</td>\n",
       "      <td>3.22</td>\n",
       "      <td>14</td>\n",
       "      <td>True</td>\n",
       "      <td>andrew.spencer@example.edu</td>\n",
       "    </tr>\n",
       "    <tr>\n",
       "      <th>1249</th>\n",
       "      <td>T01250</td>\n",
       "      <td>Taylor Carter</td>\n",
       "      <td>Non-Binary</td>\n",
       "      <td>Canada</td>\n",
       "      <td>Physics</td>\n",
       "      <td>Mathematics</td>\n",
       "      <td>PhD</td>\n",
       "      <td>13</td>\n",
       "      <td>Lecture-based</td>\n",
       "      <td>PGCE</td>\n",
       "      <td>Visiting</td>\n",
       "      <td>Spanish</td>\n",
       "      <td>3.30</td>\n",
       "      <td>82</td>\n",
       "      <td>True</td>\n",
       "      <td>taylor.carter@example.edu</td>\n",
       "    </tr>\n",
       "    <tr>\n",
       "      <th>7655</th>\n",
       "      <td>T07656</td>\n",
       "      <td>Michael Davis</td>\n",
       "      <td>Female</td>\n",
       "      <td>Australia</td>\n",
       "      <td>Physics</td>\n",
       "      <td>Geography</td>\n",
       "      <td>PhD</td>\n",
       "      <td>25</td>\n",
       "      <td>Lecture-based</td>\n",
       "      <td>PGCE</td>\n",
       "      <td>Full-time</td>\n",
       "      <td>English</td>\n",
       "      <td>3.20</td>\n",
       "      <td>84</td>\n",
       "      <td>True</td>\n",
       "      <td>michael.davis@example.edu</td>\n",
       "    </tr>\n",
       "  </tbody>\n",
       "</table>\n",
       "</div>"
      ],
      "text/plain": [
       "     Teacher_ID              Full_Name      Gender    Country Primary_Subject  \\\n",
       "8193     T08194         Ashley Johnson  Non-Binary     Canada         Physics   \n",
       "1269     T01270           Jacob Taylor        Male     Canada         Physics   \n",
       "1581     T01582       Brittany Johnson        Male     Canada         English   \n",
       "3857     T03858       George Henderson        Male     Canada         History   \n",
       "4576     T04577  Dr. Jeffrey Myers PhD        Male    Germany         Physics   \n",
       "7059     T07060           Sheri Spears  Non-Binary     Canada         Physics   \n",
       "9797     T09798      Sharon Mccullough        Male     Canada         Physics   \n",
       "7516     T07517         Andrew Spencer        Male    Germany         Physics   \n",
       "1249     T01250          Taylor Carter  Non-Binary     Canada         Physics   \n",
       "7655     T07656          Michael Davis      Female  Australia         Physics   \n",
       "\n",
       "     Secondary_Subject Education_Level  Years_of_Experience Teaching_Style  \\\n",
       "8193       Mathematics       Bachelors                   17  Lecture-based   \n",
       "1269       Mathematics         Masters                   15  Lecture-based   \n",
       "1581       Mathematics         Masters                    4  Lecture-based   \n",
       "3857       Mathematics             PhD                   16    Interactive   \n",
       "4576           Physics             PhD                    1  Lecture-based   \n",
       "7059       Mathematics       Bachelors                   17  Lecture-based   \n",
       "9797         Economics             PhD                   13  Lecture-based   \n",
       "7516           Biology             PhD                   32  Lecture-based   \n",
       "1249       Mathematics             PhD                   13  Lecture-based   \n",
       "7655         Geography             PhD                   25  Lecture-based   \n",
       "\n",
       "     Certifications Availability  Language  Student_Rating  Courses_Taught  \\\n",
       "8193           PGCE    Full-time   English            3.97              85   \n",
       "1269           M.Ed    Full-time   English            4.26              99   \n",
       "1581           PGCE    Full-time  Mandarin            4.41              55   \n",
       "3857           PGCE    Full-time    French            3.51              40   \n",
       "4576           M.Ed    Full-time   English            4.74              88   \n",
       "7059           PGCE    Full-time    French            3.10              51   \n",
       "9797          TESOL    Full-time  Mandarin            2.97              31   \n",
       "7516           PGCE    Full-time   Spanish            3.22              14   \n",
       "1249           PGCE     Visiting   Spanish            3.30              82   \n",
       "7655           PGCE    Full-time   English            3.20              84   \n",
       "\n",
       "      Is_Research_Active                              Email  \n",
       "8193               False         ashley.johnson@example.edu  \n",
       "1269               False           jacob.taylor@example.edu  \n",
       "1581                True       brittany.johnson@example.edu  \n",
       "3857                True       george.henderson@example.edu  \n",
       "4576                True  dr..jeffrey.myers.phd@example.edu  \n",
       "7059                True           sheri.spears@example.edu  \n",
       "9797                True      sharon.mccullough@example.edu  \n",
       "7516                True         andrew.spencer@example.edu  \n",
       "1249                True          taylor.carter@example.edu  \n",
       "7655                True          michael.davis@example.edu  "
      ]
     },
     "execution_count": 20,
     "metadata": {},
     "output_type": "execute_result"
    }
   ],
   "source": [
    "recommend_teachers(course_profile, data_encoded, scaler, data, top_n=10)"
   ]
  },
  {
   "cell_type": "code",
   "execution_count": 21,
   "id": "58f72eb2-9f35-419a-90ed-9c047ea0a135",
   "metadata": {},
   "outputs": [
    {
     "data": {
      "text/plain": [
       "['scaler.pkl']"
      ]
     },
     "execution_count": 21,
     "metadata": {},
     "output_type": "execute_result"
    },
    {
     "data": {
      "text/plain": [
       "['features.pkl']"
      ]
     },
     "execution_count": 21,
     "metadata": {},
     "output_type": "execute_result"
    }
   ],
   "source": [
    "import joblib\n",
    "\n",
    "joblib.dump(scaler, 'scaler.pkl')\n",
    "\n",
    "joblib.dump(data_encoded.columns.tolist(), 'features.pkl')\n",
    "\n",
    "np.save('teacher_vectors.npy', data_encoded.drop(columns=['Teacher_ID']).values)\n",
    "\n",
    "data.to_csv('original_teachers_df.csv', index=False)"
   ]
  }
 ],
 "metadata": {
  "kernelspec": {
   "display_name": "Python 3 (ipykernel)",
   "language": "python",
   "name": "python3"
  },
  "language_info": {
   "codemirror_mode": {
    "name": "ipython",
    "version": 3
   },
   "file_extension": ".py",
   "mimetype": "text/x-python",
   "name": "python",
   "nbconvert_exporter": "python",
   "pygments_lexer": "ipython3",
   "version": "3.12.7"
  }
 },
 "nbformat": 4,
 "nbformat_minor": 5
}
