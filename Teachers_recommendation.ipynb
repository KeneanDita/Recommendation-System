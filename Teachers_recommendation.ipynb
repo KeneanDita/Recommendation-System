{
 "cells": [
  {
   "cell_type": "markdown",
   "id": "b747ac43-f70e-4e95-b6b8-13bd4c63e64a",
   "metadata": {},
   "source": [
    "# Recommendation System for appropirate teacher for appropirate course"
   ]
  },
  {
   "cell_type": "code",
   "execution_count": 23,
   "id": "b3c17fb4-fe26-4d3f-83db-7710fb4ad49a",
   "metadata": {},
   "outputs": [
    {
     "data": {
      "application/vnd.dataresource+json": {
       "data": [
        {
         "Availability": "Part-time",
         "Certifications": "PGCE",
         "Country": "Germany",
         "Courses_Taught": 82,
         "Education_Level": "PhD",
         "Email": "brittany.rivera@example.edu",
         "Full_Name": "Brittany Rivera",
         "Gender": "Male",
         "Is_Research_Active": true,
         "Language": "Mandarin",
         "Primary_Subject": "Economics",
         "Secondary_Subject": "Biology",
         "Student_Rating": 4.94,
         "Teacher_ID": "T00001",
         "Teaching_Style": "Project-based",
         "Years_of_Experience": 4,
         "index": 0
        },
        {
         "Availability": "Part-time",
         "Certifications": "Online Certifications",
         "Country": "India",
         "Courses_Taught": 5,
         "Education_Level": "Masters",
         "Email": "ryan.smith@example.edu",
         "Full_Name": "Ryan Smith",
         "Gender": "Non-Binary",
         "Is_Research_Active": false,
         "Language": "Spanish",
         "Primary_Subject": "Computer Science",
         "Secondary_Subject": "History",
         "Student_Rating": 4.53,
         "Teacher_ID": "T00002",
         "Teaching_Style": "Flipped Classroom",
         "Years_of_Experience": 9,
         "index": 1
        },
        {
         "Availability": "Part-time",
         "Certifications": "M.Ed",
         "Country": "France",
         "Courses_Taught": 38,
         "Education_Level": "Bachelors",
         "Email": "nicole.miranda@example.edu",
         "Full_Name": "Nicole Miranda",
         "Gender": "Male",
         "Is_Research_Active": false,
         "Language": "French",
         "Primary_Subject": "Economics",
         "Secondary_Subject": "English",
         "Student_Rating": 3.22,
         "Teacher_ID": "T00003",
         "Teaching_Style": "Flipped Classroom",
         "Years_of_Experience": 23,
         "index": 2
        },
        {
         "Availability": "Full-time",
         "Certifications": null,
         "Country": "USA",
         "Courses_Taught": 70,
         "Education_Level": "Bachelors",
         "Email": "eric.hayes@example.edu",
         "Full_Name": "Eric Hayes",
         "Gender": "Non-Binary",
         "Is_Research_Active": true,
         "Language": "German",
         "Primary_Subject": "History",
         "Secondary_Subject": "Chemistry",
         "Student_Rating": 3.42,
         "Teacher_ID": "T00004",
         "Teaching_Style": "Lecture-based",
         "Years_of_Experience": 24,
         "index": 3
        },
        {
         "Availability": "Part-time",
         "Certifications": "TESOL",
         "Country": "Canada",
         "Courses_Taught": 75,
         "Education_Level": "PhD",
         "Email": "sarah.hernandez@example.edu",
         "Full_Name": "Sarah Hernandez",
         "Gender": "Female",
         "Is_Research_Active": false,
         "Language": "French",
         "Primary_Subject": "Computer Science",
         "Secondary_Subject": "Physics",
         "Student_Rating": 2.84,
         "Teacher_ID": "T00005",
         "Teaching_Style": "Interactive",
         "Years_of_Experience": 40,
         "index": 4
        }
       ],
       "schema": {
        "fields": [
         {
          "name": "index",
          "type": "integer"
         },
         {
          "name": "Teacher_ID",
          "type": "string"
         },
         {
          "name": "Full_Name",
          "type": "string"
         },
         {
          "name": "Gender",
          "type": "string"
         },
         {
          "name": "Country",
          "type": "string"
         },
         {
          "name": "Primary_Subject",
          "type": "string"
         },
         {
          "name": "Secondary_Subject",
          "type": "string"
         },
         {
          "name": "Education_Level",
          "type": "string"
         },
         {
          "name": "Years_of_Experience",
          "type": "integer"
         },
         {
          "name": "Teaching_Style",
          "type": "string"
         },
         {
          "name": "Certifications",
          "type": "string"
         },
         {
          "name": "Availability",
          "type": "string"
         },
         {
          "name": "Language",
          "type": "string"
         },
         {
          "name": "Student_Rating",
          "type": "number"
         },
         {
          "name": "Courses_Taught",
          "type": "integer"
         },
         {
          "name": "Is_Research_Active",
          "type": "boolean"
         },
         {
          "name": "Email",
          "type": "string"
         }
        ],
        "pandas_version": "1.4.0",
        "primaryKey": [
         "index"
        ]
       }
      },
      "text/html": [
       "<div>\n",
       "<style scoped>\n",
       "    .dataframe tbody tr th:only-of-type {\n",
       "        vertical-align: middle;\n",
       "    }\n",
       "\n",
       "    .dataframe tbody tr th {\n",
       "        vertical-align: top;\n",
       "    }\n",
       "\n",
       "    .dataframe thead th {\n",
       "        text-align: right;\n",
       "    }\n",
       "</style>\n",
       "<table border=\"1\" class=\"dataframe\">\n",
       "  <thead>\n",
       "    <tr style=\"text-align: right;\">\n",
       "      <th></th>\n",
       "      <th>Teacher_ID</th>\n",
       "      <th>Full_Name</th>\n",
       "      <th>Gender</th>\n",
       "      <th>Country</th>\n",
       "      <th>Primary_Subject</th>\n",
       "      <th>Secondary_Subject</th>\n",
       "      <th>Education_Level</th>\n",
       "      <th>Years_of_Experience</th>\n",
       "      <th>Teaching_Style</th>\n",
       "      <th>Certifications</th>\n",
       "      <th>Availability</th>\n",
       "      <th>Language</th>\n",
       "      <th>Student_Rating</th>\n",
       "      <th>Courses_Taught</th>\n",
       "      <th>Is_Research_Active</th>\n",
       "      <th>Email</th>\n",
       "    </tr>\n",
       "  </thead>\n",
       "  <tbody>\n",
       "    <tr>\n",
       "      <th>0</th>\n",
       "      <td>T00001</td>\n",
       "      <td>Brittany Rivera</td>\n",
       "      <td>Male</td>\n",
       "      <td>Germany</td>\n",
       "      <td>Economics</td>\n",
       "      <td>Biology</td>\n",
       "      <td>PhD</td>\n",
       "      <td>4</td>\n",
       "      <td>Project-based</td>\n",
       "      <td>PGCE</td>\n",
       "      <td>Part-time</td>\n",
       "      <td>Mandarin</td>\n",
       "      <td>4.94</td>\n",
       "      <td>82</td>\n",
       "      <td>True</td>\n",
       "      <td>brittany.rivera@example.edu</td>\n",
       "    </tr>\n",
       "    <tr>\n",
       "      <th>1</th>\n",
       "      <td>T00002</td>\n",
       "      <td>Ryan Smith</td>\n",
       "      <td>Non-Binary</td>\n",
       "      <td>India</td>\n",
       "      <td>Computer Science</td>\n",
       "      <td>History</td>\n",
       "      <td>Masters</td>\n",
       "      <td>9</td>\n",
       "      <td>Flipped Classroom</td>\n",
       "      <td>Online Certifications</td>\n",
       "      <td>Part-time</td>\n",
       "      <td>Spanish</td>\n",
       "      <td>4.53</td>\n",
       "      <td>5</td>\n",
       "      <td>False</td>\n",
       "      <td>ryan.smith@example.edu</td>\n",
       "    </tr>\n",
       "    <tr>\n",
       "      <th>2</th>\n",
       "      <td>T00003</td>\n",
       "      <td>Nicole Miranda</td>\n",
       "      <td>Male</td>\n",
       "      <td>France</td>\n",
       "      <td>Economics</td>\n",
       "      <td>English</td>\n",
       "      <td>Bachelors</td>\n",
       "      <td>23</td>\n",
       "      <td>Flipped Classroom</td>\n",
       "      <td>M.Ed</td>\n",
       "      <td>Part-time</td>\n",
       "      <td>French</td>\n",
       "      <td>3.22</td>\n",
       "      <td>38</td>\n",
       "      <td>False</td>\n",
       "      <td>nicole.miranda@example.edu</td>\n",
       "    </tr>\n",
       "    <tr>\n",
       "      <th>3</th>\n",
       "      <td>T00004</td>\n",
       "      <td>Eric Hayes</td>\n",
       "      <td>Non-Binary</td>\n",
       "      <td>USA</td>\n",
       "      <td>History</td>\n",
       "      <td>Chemistry</td>\n",
       "      <td>Bachelors</td>\n",
       "      <td>24</td>\n",
       "      <td>Lecture-based</td>\n",
       "      <td>NaN</td>\n",
       "      <td>Full-time</td>\n",
       "      <td>German</td>\n",
       "      <td>3.42</td>\n",
       "      <td>70</td>\n",
       "      <td>True</td>\n",
       "      <td>eric.hayes@example.edu</td>\n",
       "    </tr>\n",
       "    <tr>\n",
       "      <th>4</th>\n",
       "      <td>T00005</td>\n",
       "      <td>Sarah Hernandez</td>\n",
       "      <td>Female</td>\n",
       "      <td>Canada</td>\n",
       "      <td>Computer Science</td>\n",
       "      <td>Physics</td>\n",
       "      <td>PhD</td>\n",
       "      <td>40</td>\n",
       "      <td>Interactive</td>\n",
       "      <td>TESOL</td>\n",
       "      <td>Part-time</td>\n",
       "      <td>French</td>\n",
       "      <td>2.84</td>\n",
       "      <td>75</td>\n",
       "      <td>False</td>\n",
       "      <td>sarah.hernandez@example.edu</td>\n",
       "    </tr>\n",
       "  </tbody>\n",
       "</table>\n",
       "</div>"
      ],
      "text/plain": [
       "  Teacher_ID        Full_Name      Gender  Country   Primary_Subject  \\\n",
       "0     T00001  Brittany Rivera        Male  Germany         Economics   \n",
       "1     T00002       Ryan Smith  Non-Binary    India  Computer Science   \n",
       "2     T00003   Nicole Miranda        Male   France         Economics   \n",
       "3     T00004       Eric Hayes  Non-Binary      USA           History   \n",
       "4     T00005  Sarah Hernandez      Female   Canada  Computer Science   \n",
       "\n",
       "  Secondary_Subject Education_Level  Years_of_Experience     Teaching_Style  \\\n",
       "0           Biology             PhD                    4      Project-based   \n",
       "1           History         Masters                    9  Flipped Classroom   \n",
       "2           English       Bachelors                   23  Flipped Classroom   \n",
       "3         Chemistry       Bachelors                   24      Lecture-based   \n",
       "4           Physics             PhD                   40        Interactive   \n",
       "\n",
       "          Certifications Availability  Language  Student_Rating  \\\n",
       "0                   PGCE    Part-time  Mandarin            4.94   \n",
       "1  Online Certifications    Part-time   Spanish            4.53   \n",
       "2                   M.Ed    Part-time    French            3.22   \n",
       "3                    NaN    Full-time    German            3.42   \n",
       "4                  TESOL    Part-time    French            2.84   \n",
       "\n",
       "   Courses_Taught  Is_Research_Active                        Email  \n",
       "0              82                True  brittany.rivera@example.edu  \n",
       "1               5               False       ryan.smith@example.edu  \n",
       "2              38               False   nicole.miranda@example.edu  \n",
       "3              70                True       eric.hayes@example.edu  \n",
       "4              75               False  sarah.hernandez@example.edu  "
      ]
     },
     "execution_count": 23,
     "metadata": {},
     "output_type": "execute_result"
    }
   ],
   "source": [
    "import pandas as pd\n",
    "\n",
    "data = pd.read_csv('assets/synthetic_teachers_dataset.csv')\n",
    "data.head()"
   ]
  },
  {
   "cell_type": "code",
   "execution_count": 24,
   "id": "e96fbf3b-cf81-4385-b1ed-93c22011038d",
   "metadata": {},
   "outputs": [
    {
     "data": {
      "text/plain": [
       "(10000, 16)"
      ]
     },
     "execution_count": 24,
     "metadata": {},
     "output_type": "execute_result"
    }
   ],
   "source": [
    "data.shape"
   ]
  },
  {
   "cell_type": "code",
   "execution_count": 25,
   "id": "1ac6793d-44bd-4acf-a9a6-20cf910d09d5",
   "metadata": {},
   "outputs": [
    {
     "data": {
      "application/vnd.dataresource+json": {
       "data": [
        {
         "Country": "Canada",
         "count": 1492
        },
        {
         "Country": "Australia",
         "count": 1470
        },
        {
         "Country": "Germany",
         "count": 1461
        },
        {
         "Country": "UK",
         "count": 1427
        },
        {
         "Country": "India",
         "count": 1402
        },
        {
         "Country": "USA",
         "count": 1394
        },
        {
         "Country": "France",
         "count": 1354
        }
       ],
       "schema": {
        "fields": [
         {
          "name": "Country",
          "type": "string"
         },
         {
          "name": "count",
          "type": "integer"
         }
        ],
        "pandas_version": "1.4.0",
        "primaryKey": [
         "Country"
        ]
       }
      },
      "text/plain": [
       "Country\n",
       "Canada       1492\n",
       "Australia    1470\n",
       "Germany      1461\n",
       "UK           1427\n",
       "India        1402\n",
       "USA          1394\n",
       "France       1354\n",
       "Name: count, dtype: int64"
      ]
     },
     "execution_count": 25,
     "metadata": {},
     "output_type": "execute_result"
    }
   ],
   "source": [
    "data.value_counts('Country')"
   ]
  },
  {
   "cell_type": "code",
   "execution_count": 26,
   "id": "d44d59f8-792b-4186-b6c1-204bfa80668a",
   "metadata": {},
   "outputs": [
    {
     "data": {
      "application/vnd.dataresource+json": {
       "data": [
        {
         "Courses_Taught": 10000,
         "Student_Rating": 10000,
         "Years_of_Experience": 10000,
         "index": "count"
        },
        {
         "Courses_Taught": 52.1288,
         "Student_Rating": 3.746494,
         "Years_of_Experience": 20.282,
         "index": "mean"
        },
        {
         "Courses_Taught": 27.3477421456,
         "Student_Rating": 0.7209487115,
         "Years_of_Experience": 11.630967455,
         "index": "std"
        },
        {
         "Courses_Taught": 5,
         "Student_Rating": 2.5,
         "Years_of_Experience": 1,
         "index": "min"
        },
        {
         "Courses_Taught": 29,
         "Student_Rating": 3.13,
         "Years_of_Experience": 10,
         "index": "25%"
        },
        {
         "Courses_Taught": 52,
         "Student_Rating": 3.74,
         "Years_of_Experience": 20,
         "index": "50%"
        },
        {
         "Courses_Taught": 76,
         "Student_Rating": 4.37,
         "Years_of_Experience": 30,
         "index": "75%"
        },
        {
         "Courses_Taught": 99,
         "Student_Rating": 5,
         "Years_of_Experience": 40,
         "index": "max"
        }
       ],
       "schema": {
        "fields": [
         {
          "name": "index",
          "type": "string"
         },
         {
          "name": "Years_of_Experience",
          "type": "number"
         },
         {
          "name": "Student_Rating",
          "type": "number"
         },
         {
          "name": "Courses_Taught",
          "type": "number"
         }
        ],
        "pandas_version": "1.4.0",
        "primaryKey": [
         "index"
        ]
       }
      },
      "text/html": [
       "<div>\n",
       "<style scoped>\n",
       "    .dataframe tbody tr th:only-of-type {\n",
       "        vertical-align: middle;\n",
       "    }\n",
       "\n",
       "    .dataframe tbody tr th {\n",
       "        vertical-align: top;\n",
       "    }\n",
       "\n",
       "    .dataframe thead th {\n",
       "        text-align: right;\n",
       "    }\n",
       "</style>\n",
       "<table border=\"1\" class=\"dataframe\">\n",
       "  <thead>\n",
       "    <tr style=\"text-align: right;\">\n",
       "      <th></th>\n",
       "      <th>Years_of_Experience</th>\n",
       "      <th>Student_Rating</th>\n",
       "      <th>Courses_Taught</th>\n",
       "    </tr>\n",
       "  </thead>\n",
       "  <tbody>\n",
       "    <tr>\n",
       "      <th>count</th>\n",
       "      <td>10000.000000</td>\n",
       "      <td>10000.000000</td>\n",
       "      <td>10000.000000</td>\n",
       "    </tr>\n",
       "    <tr>\n",
       "      <th>mean</th>\n",
       "      <td>20.282000</td>\n",
       "      <td>3.746494</td>\n",
       "      <td>52.128800</td>\n",
       "    </tr>\n",
       "    <tr>\n",
       "      <th>std</th>\n",
       "      <td>11.630967</td>\n",
       "      <td>0.720949</td>\n",
       "      <td>27.347742</td>\n",
       "    </tr>\n",
       "    <tr>\n",
       "      <th>min</th>\n",
       "      <td>1.000000</td>\n",
       "      <td>2.500000</td>\n",
       "      <td>5.000000</td>\n",
       "    </tr>\n",
       "    <tr>\n",
       "      <th>25%</th>\n",
       "      <td>10.000000</td>\n",
       "      <td>3.130000</td>\n",
       "      <td>29.000000</td>\n",
       "    </tr>\n",
       "    <tr>\n",
       "      <th>50%</th>\n",
       "      <td>20.000000</td>\n",
       "      <td>3.740000</td>\n",
       "      <td>52.000000</td>\n",
       "    </tr>\n",
       "    <tr>\n",
       "      <th>75%</th>\n",
       "      <td>30.000000</td>\n",
       "      <td>4.370000</td>\n",
       "      <td>76.000000</td>\n",
       "    </tr>\n",
       "    <tr>\n",
       "      <th>max</th>\n",
       "      <td>40.000000</td>\n",
       "      <td>5.000000</td>\n",
       "      <td>99.000000</td>\n",
       "    </tr>\n",
       "  </tbody>\n",
       "</table>\n",
       "</div>"
      ],
      "text/plain": [
       "       Years_of_Experience  Student_Rating  Courses_Taught\n",
       "count         10000.000000    10000.000000    10000.000000\n",
       "mean             20.282000        3.746494       52.128800\n",
       "std              11.630967        0.720949       27.347742\n",
       "min               1.000000        2.500000        5.000000\n",
       "25%              10.000000        3.130000       29.000000\n",
       "50%              20.000000        3.740000       52.000000\n",
       "75%              30.000000        4.370000       76.000000\n",
       "max              40.000000        5.000000       99.000000"
      ]
     },
     "execution_count": 26,
     "metadata": {},
     "output_type": "execute_result"
    }
   ],
   "source": [
    "data.describe()"
   ]
  },
  {
   "cell_type": "code",
   "execution_count": 27,
   "id": "434162e1-7aba-404e-bf26-aeb35435f3c8",
   "metadata": {},
   "outputs": [
    {
     "data": {
      "application/vnd.dataresource+json": {
       "data": [
        {
         "index": "Teacher_ID",
         "values": 0
        },
        {
         "index": "Full_Name",
         "values": 0
        },
        {
         "index": "Gender",
         "values": 0
        },
        {
         "index": "Country",
         "values": 0
        },
        {
         "index": "Primary_Subject",
         "values": 0
        },
        {
         "index": "Secondary_Subject",
         "values": 0
        },
        {
         "index": "Education_Level",
         "values": 0
        },
        {
         "index": "Years_of_Experience",
         "values": 0
        },
        {
         "index": "Teaching_Style",
         "values": 0
        },
        {
         "index": "Certifications",
         "values": 1718
        },
        {
         "index": "Availability",
         "values": 0
        },
        {
         "index": "Language",
         "values": 0
        },
        {
         "index": "Student_Rating",
         "values": 0
        },
        {
         "index": "Courses_Taught",
         "values": 0
        },
        {
         "index": "Is_Research_Active",
         "values": 0
        },
        {
         "index": "Email",
         "values": 0
        }
       ],
       "schema": {
        "fields": [
         {
          "name": "index",
          "type": "string"
         },
         {
          "name": "values",
          "type": "integer"
         }
        ],
        "pandas_version": "1.4.0",
        "primaryKey": [
         "index"
        ]
       }
      },
      "text/plain": [
       "Teacher_ID                0\n",
       "Full_Name                 0\n",
       "Gender                    0\n",
       "Country                   0\n",
       "Primary_Subject           0\n",
       "Secondary_Subject         0\n",
       "Education_Level           0\n",
       "Years_of_Experience       0\n",
       "Teaching_Style            0\n",
       "Certifications         1718\n",
       "Availability              0\n",
       "Language                  0\n",
       "Student_Rating            0\n",
       "Courses_Taught            0\n",
       "Is_Research_Active        0\n",
       "Email                     0\n",
       "dtype: int64"
      ]
     },
     "execution_count": 27,
     "metadata": {},
     "output_type": "execute_result"
    }
   ],
   "source": [
    "data.isnull().sum()"
   ]
  },
  {
   "cell_type": "code",
   "execution_count": 28,
   "id": "f9b85dab-4f5a-4c8e-a1bb-a1430766f825",
   "metadata": {},
   "outputs": [],
   "source": [
    "data.fillna('Unknown', inplace=True)"
   ]
  },
  {
   "cell_type": "code",
   "execution_count": 30,
   "id": "6e6b65e1-d16d-46fc-9fd4-e57a79ff3bec",
   "metadata": {},
   "outputs": [
    {
     "data": {
      "text/plain": [
       "['scaler.pkl']"
      ]
     },
     "execution_count": 30,
     "metadata": {},
     "output_type": "execute_result"
    },
    {
     "data": {
      "text/plain": [
       "['features.pkl']"
      ]
     },
     "execution_count": 30,
     "metadata": {},
     "output_type": "execute_result"
    }
   ],
   "source": [
    "import pandas as pd\n",
    "import numpy as np\n",
    "import joblib\n",
    "from sklearn.preprocessing import StandardScaler\n",
    "\n",
    "# Load your raw DataFrame\n",
    "# data = pd.read_csv(\"your_raw_file.csv\") — already loaded\n",
    "\n",
    "# Save a copy BEFORE scaling\n",
    "original_data = data.copy()\n",
    "\n",
    "# Handle missing values (optional)\n",
    "data.fillna(0, inplace=True)\n",
    "\n",
    "# Binary column\n",
    "data[\"Is_Research_Active\"] = data[\"Is_Research_Active\"].astype(int)\n",
    "\n",
    "# Numeric columns\n",
    "numerical_cols = [\"Years_of_Experience\", \"Student_Rating\", \"Courses_Taught\"]\n",
    "scaler = StandardScaler()\n",
    "data[numerical_cols] = scaler.fit_transform(data[numerical_cols])\n",
    "\n",
    "# One-hot encode categorical features\n",
    "categorical_cols = [\n",
    "    \"Primary_Subject\", \"Secondary_Subject\", \"Education_Level\",\n",
    "    \"Teaching_Style\", \"Certifications\", \"Availability\",\n",
    "    \"Language\", \"Gender\", \"Country\"\n",
    "]\n",
    "encoded_data = pd.get_dummies(data[categorical_cols], prefix=categorical_cols)\n",
    "\n",
    "# Final numeric feature matrix\n",
    "teacher_vectors = pd.concat([encoded_data, data[numerical_cols], data[[\"Is_Research_Active\"]]], axis=1)\n",
    "\n",
    "# Save the required files\n",
    "features = list(teacher_vectors.columns)\n",
    "np.save(\"teacher_vectors.npy\", teacher_vectors.to_numpy())\n",
    "joblib.dump(scaler, \"scaler.pkl\")\n",
    "joblib.dump(features, \"features.pkl\")\n",
    "\n",
    "# Save original (unscaled) data for Streamlit UI\n",
    "original_data.to_csv(\"original_teachers_df.csv\", index=False)"
   ]
  }
 ],
 "metadata": {
  "kernelspec": {
   "display_name": "Python 3 (ipykernel)",
   "language": "python",
   "name": "python3"
  },
  "language_info": {
   "codemirror_mode": {
    "name": "ipython",
    "version": 3
   },
   "file_extension": ".py",
   "mimetype": "text/x-python",
   "name": "python",
   "nbconvert_exporter": "python",
   "pygments_lexer": "ipython3",
   "version": "3.12.7"
  }
 },
 "nbformat": 4,
 "nbformat_minor": 5
}
